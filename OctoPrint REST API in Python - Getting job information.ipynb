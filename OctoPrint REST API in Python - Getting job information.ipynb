{
 "cells": [
  {
   "cell_type": "markdown",
   "metadata": {},
   "source": [
    "### Using a REST API in Python is very easy. Here is a quick demo that shows how job information of a 3D print can be retrieved from OctoPrint using its REST API:"
   ]
  },
  {
   "cell_type": "code",
   "execution_count": 30,
   "metadata": {
    "collapsed": true
   },
   "outputs": [],
   "source": [
    "import requests\n",
    "import json"
   ]
  },
  {
   "cell_type": "markdown",
   "metadata": {},
   "source": [
    "Configuration:"
   ]
  },
  {
   "cell_type": "code",
   "execution_count": 39,
   "metadata": {
    "collapsed": true
   },
   "outputs": [],
   "source": [
    "# IP adress of the OctoPrint instance\n",
    "ip = 'http://255.255.255.255/'"
   ]
  },
  {
   "cell_type": "code",
   "execution_count": 40,
   "metadata": {
    "collapsed": true
   },
   "outputs": [],
   "source": [
    "# Paste your API key here\n",
    "# Instructions to get the key: docs.octoprint.org/en/master/api/general.html#authorization\n",
    "# CORS needs to be enabled!\n",
    "headers = {\n",
    "    'X-Api-Key': 'XXXXXXXXXXXXXXXXXXXXXXXXXXXXXXXX'\n",
    "}"
   ]
  },
  {
   "cell_type": "markdown",
   "metadata": {},
   "source": [
    "Doing the request and decoding:"
   ]
  },
  {
   "cell_type": "code",
   "execution_count": 37,
   "metadata": {
    "collapsed": true
   },
   "outputs": [],
   "source": [
    "req = lambda url: requests.get(ip+url, headers=headers).content"
   ]
  },
  {
   "cell_type": "code",
   "execution_count": 38,
   "metadata": {},
   "outputs": [],
   "source": [
    "job_info = json.loads(req('api/job').decode('utf-8'))"
   ]
  },
  {
   "cell_type": "markdown",
   "metadata": {},
   "source": [
    "Now the object `job_info` contains the information we wanted:"
   ]
  },
  {
   "cell_type": "code",
   "execution_count": 26,
   "metadata": {},
   "outputs": [
    {
     "data": {
      "text/plain": [
       "{'elapsed': 1173,\n",
       " 'filename': 'wemos_d1_mini_box_round_display.gcode',\n",
       " 'percentage': 5.592836176861063,\n",
       " 'remaining': 18250}"
      ]
     },
     "execution_count": 26,
     "metadata": {},
     "output_type": "execute_result"
    }
   ],
   "source": [
    "{'filename': job_info['job']['file']['name'],\n",
    "'elapsed': job_info['progress']['printTime'],\n",
    "'remaining': job_info['progress']['printTimeLeft'],\n",
    "'percentage': job_info['progress']['completion']}"
   ]
  },
  {
   "cell_type": "markdown",
   "metadata": {},
   "source": [
    "Documentation of the API can be found here: [OctoPrint API](http://docs.octoprint.org/en/master/api/index.html)"
   ]
  }
 ],
 "metadata": {
  "kernelspec": {
   "display_name": "Python 3",
   "language": "python",
   "name": "python3"
  },
  "language_info": {
   "codemirror_mode": {
    "name": "ipython",
    "version": 3
   },
   "file_extension": ".py",
   "mimetype": "text/x-python",
   "name": "python",
   "nbconvert_exporter": "python",
   "pygments_lexer": "ipython3",
   "version": "3.6.1"
  }
 },
 "nbformat": 4,
 "nbformat_minor": 2
}
